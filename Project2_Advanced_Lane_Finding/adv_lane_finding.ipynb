{
 "cells": [
  {
   "cell_type": "markdown",
   "metadata": {},
   "source": [
    "Advanced lane finding\n",
    "=====================\n",
    "\n",
    "> The goals / steps of this project are the following: \n",
    "> * Compute the camera calibration matrix and distortion coefficients given a set of chessboard images.\n",
    "> * Apply a distortion correction to raw images.\n",
    "> * Use color transforms, gradients, etc., to create a thresholded binary image.\n",
    "> * Apply a perspective transform to rectify binary image (\"birds-eye view\").\n",
    "> * Detect lane pixels and fit to find the lane boundary.\n",
    "> * Determine the curvature of the lane and vehicle position with respect to center.\n",
    "> * Warp the detected lane boundaries back onto the original image.\n",
    "> * Output visual display of the lane boundaries and numerical estimation of lane curvature and vehicle position.\n",
    "\n",
    "Prereqs:\n",
    "1. Calibrate camera\n",
    "\n",
    "Pipeline per image:\n",
    "1. Correct for distortion (using calibration results)\n",
    "1. Binarize lane lines\n",
    "1. Perspective transform to birds-eye\n",
    "1. Fit polynomials to left and right lane\n",
    "1. Calculate radius of each polynomial (in meters, not pixels)\n",
    "1. Calculate position of vehicle with respect to center\n",
    "1. Plot results on original image\n",
    "\n",
    "Pipeline, video:\n",
    "1. Run on image, save state\n",
    "1. Repeat\n",
    "\n",
    "\n",
    "\n",
    "\n"
   ]
  },
  {
   "cell_type": "code",
   "execution_count": 1,
   "metadata": {},
   "outputs": [],
   "source": [
    "%load_ext autoreload\n",
    "%autoreload 2"
   ]
  },
  {
   "cell_type": "code",
   "execution_count": 1,
   "metadata": {},
   "outputs": [],
   "source": [
    "from pathlib import Path\n",
    "\n",
    "import matplotlib.pyplot as plt\n",
    "from matplotlib.patches import Polygon\n",
    "import cv2\n",
    "import numpy as np\n",
    "\n",
    "from lib.camera_calib import Undistorter\n",
    "from lib.pipeline import binarize_lane_line_pixels, BirdsEyeTansformer\n",
    "from lib.line import Line, LineType\n",
    "\n",
    "%matplotlib inline"
   ]
  },
  {
   "cell_type": "code",
   "execution_count": 2,
   "metadata": {},
   "outputs": [],
   "source": [
    "PATH_CAM_CALIBRATION_IMAGES = Path(\"./camera_cal\")\n",
    "TEST_IMAGES = sorted(Path(\"./test_images\").glob(\"*.jpg\"))\n",
    "IMG_SHAPE = (1280, 720)  # y, x\n",
    "\n",
    "LANE_START_X_LEFT = 185\n",
    "LANE_START_X_RIGHT = IMG_SHAPE[0] - 150\n",
    "LANE_WIDTH = LANE_START_X_RIGHT - LANE_START_X_LEFT\n",
    "X_MIDDLE = (LANE_START_X_LEFT + LANE_WIDTH // 2)\n",
    "\n",
    "APEX_Y = 450\n",
    "APEX_X_OFFSET_LEFT = 65  # Relative to middle of lane\n",
    "APEX_X_OFFSET_RIGHT = 30\n",
    "\n",
    "DST_X_OFFSET = 300\n",
    "DST_X_LEFT = DST_X_OFFSET\n",
    "DST_X_RIGHT = IMG_SHAPE[0] - DST_X_OFFSET"
   ]
  },
  {
   "cell_type": "code",
   "execution_count": 3,
   "metadata": {},
   "outputs": [],
   "source": [
    "# Counter clockwise from topleft\n",
    "LANE_AREA_SRC = np.array([\n",
    "    (X_MIDDLE - APEX_X_OFFSET_LEFT, APEX_Y),\n",
    "    (LANE_START_X_LEFT, IMG_SHAPE[1] - 1),\n",
    "    (LANE_START_X_RIGHT, IMG_SHAPE[1] - 1),\n",
    "    (X_MIDDLE + APEX_X_OFFSET_RIGHT, APEX_Y),\n",
    "], dtype=np.float32)\n",
    "\n",
    "LANE_AREA_DST = np.array([\n",
    "    (DST_X_LEFT, 0),\n",
    "    (DST_X_LEFT, IMG_SHAPE[1] - 1),\n",
    "    (DST_X_RIGHT, IMG_SHAPE[1] - 1),\n",
    "    (DST_X_RIGHT, 0),\n",
    "], dtype=np.float32)\n"
   ]
  },
  {
   "cell_type": "code",
   "execution_count": null,
   "metadata": {},
   "outputs": [],
   "source": [
    "undist = Undistorter(IMG_SHAPE)\n",
    "undist.calibrate(PATH_CAM_CALIBRATION_IMAGES)\n",
    "\n",
    "bird_trans = BirdsEyeTansformer(LANE_AREA_SRC, LANE_AREA_DST)"
   ]
  },
  {
   "cell_type": "code",
   "execution_count": null,
   "metadata": {},
   "outputs": [],
   "source": [
    "for img_path in TEST_IMAGES:\n",
    "    _, ((l, ml, mr, r), (b1, b2, b3, b4)) = plt.subplots(nrows=2, ncols=4, figsize=(18, 5))\n",
    "    img_dist = cv2.imread(str(img_path))\n",
    "    \n",
    "    img = undist.apply(img_dist)\n",
    "    \n",
    "    l.imshow(cv2.cvtColor(img_dist, cv2.COLOR_BGR2RGB))\n",
    "    l.set_title(\"Original\")\n",
    "    \n",
    "    ml.imshow(cv2.cvtColor(img, cv2.COLOR_BGR2RGB))\n",
    "    ml.set_title(\"Undistorted\")\n",
    "    \n",
    "    ml.add_patch(Polygon(LANE_AREA_SRC, linewidth=1, edgecolor=\"lime\", facecolor=\"none\", \n",
    "                        linestyle=\"--\", label=\"Lane area source\"))\n",
    "    ml.add_patch(Polygon(LANE_AREA_DST, linewidth=1, edgecolor=\"pink\", facecolor=\"none\", \n",
    "                        linestyle=\"--\", label=\"Lane area destination\"))\n",
    "    ml.legend()\n",
    "    \n",
    "    img_bin = binarize_lane_line_pixels(img, output_binary=True, s_thresh=(155, 255),  sx_thresh=(40, 140)) #s_thresh=(200, 255),  sx_thresh=(20, 100))\n",
    "    cmap = \"gray\" if len(img_bin.shape) == 2 else None\n",
    "    mr.imshow(img_bin, cmap=cmap)\n",
    "    mr.set_title(\"Lane binarization\")\n",
    "    \n",
    "    img_bird = bird_trans.apply(img_bin)\n",
    "    r.imshow(img_bird, cmap=cmap)\n",
    "    r.set_title(\"Perspective transform\")\n",
    "\n",
    "    for lt, ax in zip((LineType.LEFT, LineType.RIGHT), ((b1, b2))):\n",
    "        l = Line.from_sliding_window(img_bird, lt)\n",
    "        ax.imshow(l.sw_fit_viz)\n",
    "        ax.title(LineType.to_str(lt))\n",
    "        \n",
    "    plt.suptitle(img_path.name)\n",
    "    plt.show()\n",
    "\n"
   ]
  },
  {
   "cell_type": "code",
   "execution_count": null,
   "metadata": {},
   "outputs": [],
   "source": []
  },
  {
   "cell_type": "code",
   "execution_count": null,
   "metadata": {},
   "outputs": [],
   "source": []
  }
 ],
 "metadata": {
  "kernelspec": {
   "display_name": "Python 3",
   "language": "python",
   "name": "python3"
  },
  "language_info": {
   "codemirror_mode": {
    "name": "ipython",
    "version": 3
   },
   "file_extension": ".py",
   "mimetype": "text/x-python",
   "name": "python",
   "nbconvert_exporter": "python",
   "pygments_lexer": "ipython3",
   "version": "3.8.2"
  }
 },
 "nbformat": 4,
 "nbformat_minor": 4
}
