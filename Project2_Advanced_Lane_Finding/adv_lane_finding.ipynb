{
 "cells": [
  {
   "cell_type": "markdown",
   "metadata": {},
   "source": [
    "Advanced lane finding\n",
    "=====================\n",
    "\n",
    "Prereqs:\n",
    "1. Calibrate camera\n",
    "\n",
    "Pipeline per image:\n",
    "1. Correct for distortion (using calibration results)\n",
    "1. Binarize lane lines\n",
    "1. Perspective transform to birds-eye\n",
    "1. Fit polynomials to left and right lane\n",
    "1. Calculate radius of each polynomial (in meters, not pixels)\n",
    "1. Calculate position of vehicle with respect to center\n",
    "1. Plot results on original image\n",
    "\n",
    "Pipeline, video:\n",
    "1. Run on image, save state\n",
    "1. Repeat"
   ]
  },
  {
   "cell_type": "code",
   "execution_count": null,
   "metadata": {},
   "outputs": [],
   "source": []
  }
 ],
 "metadata": {
  "kernelspec": {
   "display_name": "Python 3",
   "language": "python",
   "name": "python3"
  },
  "language_info": {
   "codemirror_mode": {
    "name": "ipython",
    "version": 3
   },
   "file_extension": ".py",
   "mimetype": "text/x-python",
   "name": "python",
   "nbconvert_exporter": "python",
   "pygments_lexer": "ipython3",
   "version": "3.8.2"
  }
 },
 "nbformat": 4,
 "nbformat_minor": 4
}
